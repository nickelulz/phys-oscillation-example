{
 "cells": [
  {
   "cell_type": "markdown",
   "metadata": {},
   "source": [
    "## Damped Oscillator"
   ]
  },
  {
   "cell_type": "code",
   "execution_count": 1,
   "metadata": {},
   "outputs": [],
   "source": [
    "import os, csv, sys, math\n",
    "import numpy as np\n",
    "from matplotlib import pyplot"
   ]
  },
  {
   "cell_type": "markdown",
   "metadata": {},
   "source": [
    "## Code \n",
    "Have a look at the Euler code below. Notice all the components and how the oscillation is calculated. Linear (viscous) drag can also be understood analytically, but the Euler method allows for any sort of drag, even friction, which is highly non-linear (static/dynamic).\n",
    "## Exercise\n",
    "1. Change the spring constant and mass; observe the change in the signal plot\n",
    "2. Change the damping; find critical damping and go beyond; notice what happens to the oscillation frequency and the time constant compared to the simple formula in the code"
   ]
  },
  {
   "cell_type": "code",
   "execution_count": 2,
   "metadata": {},
   "outputs": [],
   "source": [
    "SPRING_CONSTANT = 1 # N/m\n",
    "MASS = 4 # kg\n",
    "DAMPING_CONSTANT = 1/10 # Ns/m"
   ]
  },
  {
   "cell_type": "markdown",
   "metadata": {},
   "source": [
    "Natural Angular Frequency\n",
    "\n",
    "$$\\omega_{0} = \\sqrt{\\frac{k}{m}}$$"
   ]
  },
  {
   "cell_type": "code",
   "execution_count": 3,
   "metadata": {},
   "outputs": [
    {
     "name": "stdout",
     "output_type": "stream",
     "text": [
      "Initial Angular Frequency = 0.5 Hz\n"
     ]
    }
   ],
   "source": [
    "init_ang_freq = np.sqrt(SPRING_CONSTANT / MASS)\n",
    "print(\"Initial Angular Frequency =\", f\"{init_ang_freq:.2}\", \"Hz\")"
   ]
  },
  {
   "cell_type": "markdown",
   "metadata": {},
   "source": [
    "Damped Angular Frequency\n",
    "\n",
    "$$\\omega_{damped} = \\sqrt{ w_{0}^{2} - 4 \\left( \\frac{b}{m} \\right)^{2} }$$"
   ]
  },
  {
   "cell_type": "code",
   "execution_count": 4,
   "metadata": {},
   "outputs": [
    {
     "name": "stdout",
     "output_type": "stream",
     "text": [
      "Damped Angular Frequency = 0.5 Hz\n"
     ]
    }
   ],
   "source": [
    "pre_sq_damp_ang_freq = init_ang_freq ** 2 - 4 * (DAMPING_CONSTANT / MASS) ** 2\n",
    "if pre_sq_damp_ang_freq < 0:\n",
    "    damp_ang_freq = 0.0\n",
    "else:\n",
    "    damp_ang_freq = np.sqrt(pre_sq_damp_ang_freq)\n",
    "print(\"Damped Angular Frequency =\", f\"{damp_ang_freq:.2}\", \"Hz\")"
   ]
  },
  {
   "cell_type": "markdown",
   "metadata": {},
   "source": [
    "Quality Factor of Resonance\n",
    "\n",
    "$$Q = \\frac{m \\omega_{0}}{b}$$"
   ]
  },
  {
   "cell_type": "code",
   "execution_count": 5,
   "metadata": {},
   "outputs": [
    {
     "name": "stdout",
     "output_type": "stream",
     "text": [
      "Quality Factor = 20.0\n"
     ]
    }
   ],
   "source": [
    "q = (MASS * init_ang_freq) / DAMPING_CONSTANT\n",
    "print(\"Quality Factor =\", f\"{q:.3}\")"
   ]
  },
  {
   "cell_type": "markdown",
   "metadata": {},
   "source": [
    "Critical Damping Constant (fastest return to equilibrium)\n",
    "\n",
    "$$b_{crit} = \\sqrt{4mk}$$"
   ]
  },
  {
   "cell_type": "code",
   "execution_count": 6,
   "metadata": {},
   "outputs": [
    {
     "name": "stdout",
     "output_type": "stream",
     "text": [
      "Critical Damping = 4.0 Ns/m\n"
     ]
    }
   ],
   "source": [
    "b_crit = np.sqrt(4 * MASS * SPRING_CONSTANT) # Ns/m\n",
    "print(\"Critical Damping =\", f\"{b_crit:.3}\", \"Ns/m\")"
   ]
  },
  {
   "cell_type": "markdown",
   "metadata": {},
   "source": [
    "Time Constant (only for small damping)\n",
    "\n",
    "$$\\tau = \\frac{2m}{b} \\text{ when } b < b_{crit}$$"
   ]
  },
  {
   "cell_type": "code",
   "execution_count": 7,
   "metadata": {},
   "outputs": [
    {
     "name": "stdout",
     "output_type": "stream",
     "text": [
      "tau (only for small damping) = 80.0 s\n"
     ]
    }
   ],
   "source": [
    "tau = (2 * MASS) / DAMPING_CONSTANT\n",
    "print(\"tau (only for small damping) =\", f\"{tau:.3}\", \"s\")\n",
    "\n",
    "if DAMPING_CONSTANT >= b_crit:\n",
    "    print('Damping too large, ignore tau')"
   ]
  },
  {
   "cell_type": "markdown",
   "metadata": {},
   "source": [
    "Natural/Damped Frequency\n",
    "\n",
    "$$f = \\frac{\\omega}{2/\\pi}$$"
   ]
  },
  {
   "cell_type": "code",
   "execution_count": 8,
   "metadata": {},
   "outputs": [],
   "source": [
    "init_freq = init_ang_freq / 2 / np.pi\n",
    "damp_freq = damp_ang_freq / 2 / np.pi"
   ]
  },
  {
   "cell_type": "markdown",
   "metadata": {},
   "source": [
    "Resonance Width\n",
    "$$\\Delta \\omega = \\frac{f_{damped}}{Q}$$"
   ]
  },
  {
   "cell_type": "code",
   "execution_count": 9,
   "metadata": {},
   "outputs": [
    {
     "name": "stdout",
     "output_type": "stream",
     "text": [
      "Resonance Width = 0.004 Hz\n"
     ]
    }
   ],
   "source": [
    "res_width = damp_freq / q\n",
    "print(\"Resonance Width =\", f\"{res_width:.2}\", \"Hz\")"
   ]
  },
  {
   "cell_type": "markdown",
   "metadata": {},
   "source": [
    "### Euler Simulation Constants"
   ]
  },
  {
   "cell_type": "code",
   "execution_count": 10,
   "metadata": {},
   "outputs": [],
   "source": [
    "ITERATIONS = 2 ** 24 # number of iterations (power of two is for the FFT below)\n",
    "TIME_STEP = 0.00001 # integration time, s\n",
    "INITIAL_AMPLITUDE = 1 # m\n",
    "INITIAL_VELOCITY = 0 # m/s"
   ]
  },
  {
   "cell_type": "code",
   "execution_count": 11,
   "metadata": {},
   "outputs": [],
   "source": [
    "time_data = np.linspace(0, ITERATIONS * TIME_STEP, ITERATIONS+1)\n",
    "data_length = len(time_data)\n",
    "\n",
    "displacement_data = np.zeros(data_length)\n",
    "velocity_data = np.zeros(data_length)\n",
    "acceleration_data = np.zeros(data_length)\n",
    "\n",
    "displacement_data[0] = INITIAL_AMPLITUDE\n",
    "velocity_data[0] = INITIAL_VELOCITY"
   ]
  },
  {
   "cell_type": "markdown",
   "metadata": {},
   "source": [
    "### Differential Equation Sub-Calculations"
   ]
  },
  {
   "cell_type": "markdown",
   "metadata": {},
   "source": [
    "**Position Equation**\n",
    "\n",
    "$$\\Delta y_{1} = \\Delta y_{0} + v_{0} \\delta t + \\frac{1}{2} a_{0} \\delta t^{2}$$"
   ]
  },
  {
   "cell_type": "code",
   "execution_count": 12,
   "metadata": {},
   "outputs": [],
   "source": [
    "def calculate_position_from_eq(prev_position, velocity, accel, time_step):\n",
    "    return prev_position + velocity * time_step + (1/2) * accel * (time_step ** 2) "
   ]
  },
  {
   "cell_type": "markdown",
   "metadata": {},
   "source": [
    "**Acceleration Calculation** (linear spring, viscous drag)\n",
    "\n",
    "$$\\vec{a}_{0}(k, \\Delta y_{i-1}, m,) = \\frac{-k \\Delta y_{i-1}}{m}$$\n",
    "$$\\vec{a}_{i}(k, \\Delta y_{i-1}, m, b, v_{i-1}) = \\frac{-k \\Delta y_{i-1} - b v_{i-1}}{m}$$"
   ]
  },
  {
   "cell_type": "code",
   "execution_count": 13,
   "metadata": {},
   "outputs": [],
   "source": [
    "def calculate_acceleration(k, m, b, prev_displacement, prev_velocity):\n",
    "    return (-k * prev_displacement - b * prev_velocity)/m"
   ]
  },
  {
   "cell_type": "code",
   "execution_count": 14,
   "metadata": {},
   "outputs": [],
   "source": [
    "acceleration_data[0] = -SPRING_CONSTANT * displacement_data[0] / MASS\n",
    "displacement_data[1] = calculate_position_from_eq(displacement_data[0], velocity_data[0], \n",
    "                                                  acceleration_data[0], TIME_STEP)"
   ]
  },
  {
   "cell_type": "markdown",
   "metadata": {},
   "source": [
    "**Sub-Differential Update Function** (for Euler's method)\n",
    "\n",
    "$$A_{i} = A_{i-1} + \\frac{dA}{dt}_{i-1} \\delta t$$\n",
    "\n",
    "where $A$ is just any variable that is not the highest-order in the differential equation"
   ]
  },
  {
   "cell_type": "code",
   "execution_count": 15,
   "metadata": {},
   "outputs": [],
   "source": [
    "def calculate_differential_update(previous, higher_order, time_step):\n",
    "    return previous + higher_order * time_step"
   ]
  },
  {
   "cell_type": "markdown",
   "metadata": {},
   "source": [
    "**Envelope Function**\n",
    "\n",
    "$$y(t) = \\pm y_{0} e^{-t/\\tau} \\text{ when } b < b_{crit}$$"
   ]
  },
  {
   "cell_type": "code",
   "execution_count": 16,
   "metadata": {},
   "outputs": [],
   "source": [
    "def calculate_envelope(y0, t, tau):\n",
    "    return y0 * np.exp(-t/(tau))"
   ]
  },
  {
   "cell_type": "markdown",
   "metadata": {},
   "source": [
    "### Euler Simulation"
   ]
  },
  {
   "cell_type": "code",
   "execution_count": 17,
   "metadata": {},
   "outputs": [],
   "source": [
    "i = 2\n",
    "while i < ITERATIONS + 1:\n",
    "    acceleration_data[i] = calculate_acceleration(SPRING_CONSTANT, MASS, DAMPING_CONSTANT, displacement_data[i-1], velocity_data[i-1])\n",
    "    velocity_data[i]     = calculate_differential_update(velocity_data[i-1], acceleration_data[i-1], TIME_STEP)\n",
    "    displacement_data[i] = calculate_differential_update(displacement_data[i-1], velocity_data[i-1], TIME_STEP)\n",
    "    i += 1"
   ]
  },
  {
   "cell_type": "code",
   "execution_count": 18,
   "metadata": {},
   "outputs": [],
   "source": [
    "# Truncate the arrays\n",
    "time_data         = time_data[0:i-1]\n",
    "displacement_data = displacement_data[0:i-1]\n",
    "velocity_data     = velocity_data[0:i-1]\n",
    "acceleration_data = acceleration_data[0:i-1]"
   ]
  },
  {
   "cell_type": "markdown",
   "metadata": {},
   "source": [
    "### Plotting"
   ]
  },
  {
   "cell_type": "code",
   "execution_count": 19,
   "metadata": {
    "scrolled": true
   },
   "outputs": [
    {
     "data": {
      "image/png": "[encoded data removed]",
      "text/plain": [
       "<Figure size 1000x300 with 1 Axes>"
      ]
     },
     "metadata": {},
     "output_type": "display_data"
    }
   ],
   "source": [
    "pyplot.figure(figsize=(10,3))\n",
    "pyplot.plot(time_data, displacement_data, \"--\",color = 'b')\n",
    "pyplot.xlabel(\"t (s)\")\n",
    "pyplot.ylabel(\"$\\Delta y$ (m)\")\n",
    "pyplot.ylim(-1.1 * INITIAL_AMPLITUDE, \n",
    "            1.1 * INITIAL_AMPLITUDE)\n",
    "if DAMPING_CONSTANT < b_crit:\n",
    "    # tau is small, so we can print the envelope (as it will oscillate)\n",
    "    abs_y_envelope_values = calculate_envelope(INITIAL_AMPLITUDE, time_data, tau)\n",
    "    pos_y_envelope_values = abs_y_envelope_values\n",
    "    neg_y_envelope_values = -abs_y_envelope_values\n",
    "    \n",
    "    # plot\n",
    "    pyplot.plot(time_data, pos_y_envelope_values, color=\"red\")\n",
    "    pyplot.plot(time_data, neg_y_envelope_values, color=\"red\")\n",
    "    \n",
    "pyplot.grid(color='y', linestyle='-', linewidth=1)   \n",
    "pyplot.show()"
   ]
  },
  {
   "cell_type": "code",
   "execution_count": null,
   "metadata": {},
   "outputs": [],
   "source": []
  },
  {
   "cell_type": "code",
   "execution_count": null,
   "metadata": {},
   "outputs": [],
   "source": []
  }
 ],
 "metadata": {
  "kernelspec": {
   "display_name": "Python 3 (ipykernel)",
   "language": "python",
   "name": "python3"
  },
  "language_info": {
   "codemirror_mode": {
    "name": "ipython",
    "version": 3
   },
   "file_extension": ".py",
   "mimetype": "text/x-python",
   "name": "python",
   "nbconvert_exporter": "python",
   "pygments_lexer": "ipython3",
   "version": "3.11.2"
  }
 },
 "nbformat": 4,
 "nbformat_minor": 4
}
