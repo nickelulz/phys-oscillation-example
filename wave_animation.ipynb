{
 "cells": [
  {
   "cell_type": "code",
   "execution_count": 1,
   "id": "523f59d3-01a7-4024-b287-abb1ef9ebee2",
   "metadata": {},
   "outputs": [],
   "source": [
    "# %matplotlib inline\n",
    "from matplotlib import pyplot\n",
    "from IPython import display\n",
    "import time\n",
    "import numpy as np\n",
    "from copy import copy\n",
    "import matplotlib.animation as anim\n",
    "from IPython.display import HTML\n",
    "from pathlib import Path\n",
    "from enum import Enum"
   ]
  },
  {
   "cell_type": "markdown",
   "id": "ee3b2e19-da3d-4e52-b56f-11a6cacf5d19",
   "metadata": {},
   "source": [
    "# Travelling Wave Simulation: Dampened Standing Waves"
   ]
  },
  {
   "cell_type": "markdown",
   "id": "c18724b0",
   "metadata": {},
   "source": [
    "**Initial Variable Definitions**\n",
    "$$A, b, k, \\phi, \\omega$$\n",
    "\n",
    "**Derived Variables**\n",
    "$$\\lambda = \\frac{2\\pi}{k}$$\n",
    "$$T = \\frac{2\\pi}{\\omega}$$\n",
    "$$f = 1/T$$\n",
    "$$v = \\frac{\\omega}{k}$$\n",
    "\n",
    "**Wave Function Composition**\n",
    "As defined in the 'function' method:\n",
    "$$y(x,t) = A\\sin(kx \\mp \\omega t + \\phi)$$\n",
    "\n",
    "(all waves will just inherently use $\\sin$ as the backbone)"
   ]
  },
  {
   "cell_type": "code",
   "execution_count": 2,
   "id": "7186657a",
   "metadata": {},
   "outputs": [],
   "source": [
    "class Operation(Enum):\n",
    "    ADD  = 1\n",
    "    SUB  = 2\n",
    "\n",
    "class CompositeWave:\n",
    "    def __init__(self):\n",
    "        self.waves = []\n",
    "        self.operations = []\n",
    "    \n",
    "    def __add__(self, other):\n",
    "        if type(other) is SimpleWave:\n",
    "            self.waves.append(other)\n",
    "            self.operations.append(Operation.ADD)\n",
    "        if type(other) is CompositeWave:\n",
    "            self.waves.extend(other.waves)\n",
    "            self.operations.extend(other.operations)\n",
    "    \n",
    "    def __sub__(self, other):\n",
    "        if type(other) is SimpleWave:\n",
    "            self.waves.append(other)\n",
    "            self.operations.append(Operation.SUB)\n",
    "        \n",
    "    def __call__(self, x, t):\n",
    "        total = 0\n",
    "        for i in range(len(self.waves)):\n",
    "            match self.operations[i]:\n",
    "                case Operation.ADD:\n",
    "                    total += self.waves[i](x,t)\n",
    "                case Operation.SUB:\n",
    "                    total -= self.waves[i](x,t)\n",
    "        return total\n",
    "                    \n",
    "    def __str__(self):\n",
    "        string = \"CompositeWave(\\n\"\n",
    "        for i in range(len(self.waves)):\n",
    "            string += str(self.operations[i]) + \"\\n\"\n",
    "            string += str(self.waves[i]) + \"\\n\"\n",
    "        string += \")\\n\"\n",
    "        return string"
   ]
  },
  {
   "cell_type": "code",
   "execution_count": 3,
   "id": "eb926a40",
   "metadata": {},
   "outputs": [],
   "source": [
    "class Direction(Enum):\n",
    "    RIGHT = -1\n",
    "    LEFT = 1\n",
    "\n",
    "class SimpleWave:\n",
    "    def __init__(self, initial_amplitude, \n",
    "                 wave_number, angular_frequency, phase_shift, direction):\n",
    "        self.initial_amplitude = initial_amplitude\n",
    "        self.wave_number = wave_number\n",
    "        self.angular_frequency = angular_frequency\n",
    "        self.phase_shift = phase_shift\n",
    "        \n",
    "        self.direction = direction\n",
    "        \n",
    "        self.wavelength = (2 * np.pi) / wave_number\n",
    "        self.period = (2 * np.pi) / angular_frequency\n",
    "        self.frequency = 1 / self.period\n",
    "        self.wave_speed = self.angular_frequency / self.wave_number\n",
    "        \n",
    "    def __str__(self):\n",
    "        return (f'SimpleWave(\\n' +\n",
    "               f'\\tinitial_amplitude={self.initial_amplitude},\\n' + \n",
    "               f'\\twave_number={self.wave_number}\\n' +\n",
    "               f'\\tangular_frequency={self.angular_frequency}\\n' +\n",
    "               f'\\tphase_shift={self.phase_shift}\\n' +\n",
    "               f'\\tdirection={str(self.direction)}\\n' +\n",
    "               f'\\twavelength={self.wavelength}\\n' +\n",
    "               f'\\tperiod={self.period}\\n' +\n",
    "               f'\\tfrequency={self.frequency}\\n' +\n",
    "               f'\\twave_speed={self.wave_speed}\\n)\\n')\n",
    "        \n",
    "    def __call__(self, x, t):\n",
    "        return self.initial_amplitude * np.sin(self.wave_number * x + \n",
    "                                               self.direction.value * self.angular_frequency * t +\n",
    "                                               self.phase_shift)\n",
    "\n",
    "    def __add__(self, other):\n",
    "        if type(other) is CompositeWave:\n",
    "            return other.__add__(self)\n",
    "        if type(other) is SimpleWave:\n",
    "            wave_sum = CompositeWave()\n",
    "            wave_sum.__add__(self)\n",
    "            wave_sum.__add__(other)\n",
    "            return wave_sum\n",
    "        else:\n",
    "            return None\n",
    "        \n",
    "    def __sub__(self, other):\n",
    "        if type(other) is CompositeWave:\n",
    "            return other.__subtract__(self)\n",
    "        if type(other) is SimpleWave:\n",
    "            wave_sum = CompositeWave()\n",
    "            wave_sum.__add__(self)\n",
    "            wave_sum.__sub__(other)\n",
    "            return wave_sum\n",
    "        else:\n",
    "            return None\n",
    "        \n",
    "    def convert_to_composite(self):\n",
    "        composite = CompositeWave() \n",
    "        composite + self\n",
    "        return composite"
   ]
  },
  {
   "cell_type": "markdown",
   "id": "3c20f1c5",
   "metadata": {},
   "source": [
    "### Wave Definitions"
   ]
  },
  {
   "cell_type": "code",
   "execution_count": 4,
   "id": "09a6acf2",
   "metadata": {},
   "outputs": [
    {
     "name": "stdout",
     "output_type": "stream",
     "text": [
      "10.0\n"
     ]
    }
   ],
   "source": [
    "right_wave = SimpleWave(initial_amplitude = 1,\n",
    "                  wave_number = 1,\n",
    "                  angular_frequency = 10,\n",
    "                  phase_shift = 0,\n",
    "                  direction = Direction.RIGHT)\n",
    "\n",
    "left_wave = copy(right_wave)\n",
    "left_wave.direction = Direction.LEFT\n",
    "\n",
    "standing_wave = right_wave + left_wave \n",
    "\n",
    "print(right_wave.wave_speed)"
   ]
  },
  {
   "cell_type": "code",
   "execution_count": 5,
   "id": "5d68b313",
   "metadata": {},
   "outputs": [],
   "source": [
    "MAX = 100 # x and t\n",
    "FRAMES = 1000\n",
    "\n",
    "class GraphType(Enum):\n",
    "    HISTORY=0  # Fixed distance\n",
    "    SNAPSHOT=1 # Fixed time\n",
    "\n",
    "def plot_wave(wave, graph_type=GraphType.SNAPSHOT):\n",
    "    xvalues = np.linspace(0, MAX, FRAMES)\n",
    "    tvalues = np.linspace(0, MAX, FRAMES) \n",
    "    \n",
    "    for frame in range(FRAMES):\n",
    "        # set the range of plots as appropriate based on above choices of constants\n",
    "        pyplot.figure(figsize=(10,3))\n",
    "        pyplot.title(f'Frame {frame+1}/{FRAMES} - $t$={round(tvalues[frame], 2)} s')\n",
    "        \n",
    "        if type(wave) is SimpleWave:\n",
    "            if graph_type == GraphType.SNAPSHOT:\n",
    "                # show 4 wavelengths worth of length\n",
    "                pyplot.xlim(0, wave.wavelength * 4)\n",
    "            \n",
    "            if graph_type == GraphType.HISTORY:\n",
    "                # show a 30 second width from the current frame\n",
    "                pyplot.xlim(max(tvalues[frame]-30,0), tvalues[frame]+30)\n",
    "            \n",
    "            pyplot.yticks((-wave.initial_amplitude, 0, wave.initial_amplitude))\n",
    "            \n",
    "        pyplot.ylabel('Displacement (m)')\n",
    "        match graph_type:\n",
    "            # Plotting snapshot graph\n",
    "            case GraphType.SNAPSHOT:\n",
    "                pyplot.xlabel('x (m)')\n",
    "                pyplot.plot(xvalues, wave(xvalues, tvalues[frame]))\n",
    "            # Plotting history graph\n",
    "            case GraphType.HISTORY:\n",
    "                pyplot.xlabel('t (s)')\n",
    "                pyplot.plot(tvalues, wave(xvalues[frame], tvalues))\n",
    "        \n",
    "        # Animation commands\n",
    "        display.clear_output(wait=True) \n",
    "        display.display(pyplot.gcf())\n",
    "        time.sleep(0.05)\n",
    "        pyplot.close()"
   ]
  },
  {
   "cell_type": "code",
   "execution_count": 6,
   "id": "34727c85",
   "metadata": {},
   "outputs": [
    {
     "data": {
      "image/png": "[encoded data removed]",
      "text/plain": [
       "<Figure size 1000x300 with 1 Axes>"
      ]
     },
     "metadata": {},
     "output_type": "display_data"
    }
   ],
   "source": [
    "plot_wave(right_wave, graph_type=GraphType.SNAPSHOT)\n",
    "# plot_wave(left_wave)\n",
    "# plot_wave(standing_wave)"
   ]
  }
 ],
 "metadata": {
  "kernelspec": {
   "display_name": "Python 3 (ipykernel)",
   "language": "python",
   "name": "python3"
  },
  "language_info": {
   "codemirror_mode": {
    "name": "ipython",
    "version": 3
   },
   "file_extension": ".py",
   "mimetype": "text/x-python",
   "name": "python",
   "nbconvert_exporter": "python",
   "pygments_lexer": "ipython3",
   "version": "3.11.2"
  }
 },
 "nbformat": 4,
 "nbformat_minor": 5
}
